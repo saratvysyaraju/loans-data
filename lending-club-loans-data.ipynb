{
 "cells": [
  {
   "cell_type": "markdown",
   "metadata": {},
   "source": [
    "# Data Science Engineer Challenge\n",
    "As a part of this challenge, I used the Kaggle lending-club-loans-data to address the problem statement sent"
   ]
  },
  {
   "cell_type": "code",
   "execution_count": 1,
   "metadata": {},
   "outputs": [],
   "source": [
    "# init and imports\n",
    "import logging\n",
    "import setup_logging\n",
    "\n",
    "# Initiliazing the logger and streaming the logs to stderr so that they get displayed in Jupyter notebook\n",
    "setup_logging.init_logging()"
   ]
  },
  {
   "cell_type": "code",
   "execution_count": 2,
   "metadata": {},
   "outputs": [
    {
     "name": "stderr",
     "output_type": "stream",
     "text": [
      "root - INFO - Loading data from file: /Users/svysyara/Downloads/loan.csv\n",
      "root - INFO - Added 887379 rows of data to the loan table\n"
     ]
    }
   ],
   "source": [
    "from db import add_data\n",
    "\n",
    "# add_data method allows us to append or replace data in a sqlite table\n",
    "# We can use this method to periodically add more rows of data\n",
    "add_data(table_name='loan', source_file='/Users/svysyara/Downloads/loan.csv', insert_type='replace')"
   ]
  },
  {
   "cell_type": "code",
   "execution_count": 3,
   "metadata": {},
   "outputs": [
    {
     "data": {
      "text/html": [
       "<div>\n",
       "<style scoped>\n",
       "    .dataframe tbody tr th:only-of-type {\n",
       "        vertical-align: middle;\n",
       "    }\n",
       "\n",
       "    .dataframe tbody tr th {\n",
       "        vertical-align: top;\n",
       "    }\n",
       "\n",
       "    .dataframe thead th {\n",
       "        text-align: right;\n",
       "    }\n",
       "</style>\n",
       "<table border=\"1\" class=\"dataframe\">\n",
       "  <thead>\n",
       "    <tr style=\"text-align: right;\">\n",
       "      <th></th>\n",
       "      <th>index</th>\n",
       "      <th>id</th>\n",
       "      <th>member_id</th>\n",
       "      <th>loan_amnt</th>\n",
       "      <th>funded_amnt</th>\n",
       "      <th>funded_amnt_inv</th>\n",
       "      <th>term</th>\n",
       "      <th>int_rate</th>\n",
       "      <th>installment</th>\n",
       "      <th>grade</th>\n",
       "      <th>...</th>\n",
       "      <th>total_bal_il</th>\n",
       "      <th>il_util</th>\n",
       "      <th>open_rv_12m</th>\n",
       "      <th>open_rv_24m</th>\n",
       "      <th>max_bal_bc</th>\n",
       "      <th>all_util</th>\n",
       "      <th>total_rev_hi_lim</th>\n",
       "      <th>inq_fi</th>\n",
       "      <th>total_cu_tl</th>\n",
       "      <th>inq_last_12m</th>\n",
       "    </tr>\n",
       "  </thead>\n",
       "  <tbody>\n",
       "    <tr>\n",
       "      <th>0</th>\n",
       "      <td>0</td>\n",
       "      <td>1077501</td>\n",
       "      <td>1296599</td>\n",
       "      <td>5000.0</td>\n",
       "      <td>5000.0</td>\n",
       "      <td>4975.0</td>\n",
       "      <td>36 months</td>\n",
       "      <td>10.65</td>\n",
       "      <td>162.87</td>\n",
       "      <td>B</td>\n",
       "      <td>...</td>\n",
       "      <td>NaN</td>\n",
       "      <td>NaN</td>\n",
       "      <td>NaN</td>\n",
       "      <td>NaN</td>\n",
       "      <td>NaN</td>\n",
       "      <td>NaN</td>\n",
       "      <td>NaN</td>\n",
       "      <td>NaN</td>\n",
       "      <td>NaN</td>\n",
       "      <td>NaN</td>\n",
       "    </tr>\n",
       "    <tr>\n",
       "      <th>1</th>\n",
       "      <td>1</td>\n",
       "      <td>1077430</td>\n",
       "      <td>1314167</td>\n",
       "      <td>2500.0</td>\n",
       "      <td>2500.0</td>\n",
       "      <td>2500.0</td>\n",
       "      <td>60 months</td>\n",
       "      <td>15.27</td>\n",
       "      <td>59.83</td>\n",
       "      <td>C</td>\n",
       "      <td>...</td>\n",
       "      <td>NaN</td>\n",
       "      <td>NaN</td>\n",
       "      <td>NaN</td>\n",
       "      <td>NaN</td>\n",
       "      <td>NaN</td>\n",
       "      <td>NaN</td>\n",
       "      <td>NaN</td>\n",
       "      <td>NaN</td>\n",
       "      <td>NaN</td>\n",
       "      <td>NaN</td>\n",
       "    </tr>\n",
       "    <tr>\n",
       "      <th>2</th>\n",
       "      <td>2</td>\n",
       "      <td>1077175</td>\n",
       "      <td>1313524</td>\n",
       "      <td>2400.0</td>\n",
       "      <td>2400.0</td>\n",
       "      <td>2400.0</td>\n",
       "      <td>36 months</td>\n",
       "      <td>15.96</td>\n",
       "      <td>84.33</td>\n",
       "      <td>C</td>\n",
       "      <td>...</td>\n",
       "      <td>NaN</td>\n",
       "      <td>NaN</td>\n",
       "      <td>NaN</td>\n",
       "      <td>NaN</td>\n",
       "      <td>NaN</td>\n",
       "      <td>NaN</td>\n",
       "      <td>NaN</td>\n",
       "      <td>NaN</td>\n",
       "      <td>NaN</td>\n",
       "      <td>NaN</td>\n",
       "    </tr>\n",
       "    <tr>\n",
       "      <th>3</th>\n",
       "      <td>3</td>\n",
       "      <td>1076863</td>\n",
       "      <td>1277178</td>\n",
       "      <td>10000.0</td>\n",
       "      <td>10000.0</td>\n",
       "      <td>10000.0</td>\n",
       "      <td>36 months</td>\n",
       "      <td>13.49</td>\n",
       "      <td>339.31</td>\n",
       "      <td>C</td>\n",
       "      <td>...</td>\n",
       "      <td>NaN</td>\n",
       "      <td>NaN</td>\n",
       "      <td>NaN</td>\n",
       "      <td>NaN</td>\n",
       "      <td>NaN</td>\n",
       "      <td>NaN</td>\n",
       "      <td>NaN</td>\n",
       "      <td>NaN</td>\n",
       "      <td>NaN</td>\n",
       "      <td>NaN</td>\n",
       "    </tr>\n",
       "    <tr>\n",
       "      <th>4</th>\n",
       "      <td>4</td>\n",
       "      <td>1075358</td>\n",
       "      <td>1311748</td>\n",
       "      <td>3000.0</td>\n",
       "      <td>3000.0</td>\n",
       "      <td>3000.0</td>\n",
       "      <td>60 months</td>\n",
       "      <td>12.69</td>\n",
       "      <td>67.79</td>\n",
       "      <td>B</td>\n",
       "      <td>...</td>\n",
       "      <td>NaN</td>\n",
       "      <td>NaN</td>\n",
       "      <td>NaN</td>\n",
       "      <td>NaN</td>\n",
       "      <td>NaN</td>\n",
       "      <td>NaN</td>\n",
       "      <td>NaN</td>\n",
       "      <td>NaN</td>\n",
       "      <td>NaN</td>\n",
       "      <td>NaN</td>\n",
       "    </tr>\n",
       "  </tbody>\n",
       "</table>\n",
       "<p>5 rows × 75 columns</p>\n",
       "</div>"
      ],
      "text/plain": [
       "   index       id  member_id  loan_amnt  funded_amnt  funded_amnt_inv  \\\n",
       "0      0  1077501    1296599     5000.0       5000.0           4975.0   \n",
       "1      1  1077430    1314167     2500.0       2500.0           2500.0   \n",
       "2      2  1077175    1313524     2400.0       2400.0           2400.0   \n",
       "3      3  1076863    1277178    10000.0      10000.0          10000.0   \n",
       "4      4  1075358    1311748     3000.0       3000.0           3000.0   \n",
       "\n",
       "         term  int_rate  installment grade     ...      total_bal_il il_util  \\\n",
       "0   36 months     10.65       162.87     B     ...               NaN     NaN   \n",
       "1   60 months     15.27        59.83     C     ...               NaN     NaN   \n",
       "2   36 months     15.96        84.33     C     ...               NaN     NaN   \n",
       "3   36 months     13.49       339.31     C     ...               NaN     NaN   \n",
       "4   60 months     12.69        67.79     B     ...               NaN     NaN   \n",
       "\n",
       "  open_rv_12m open_rv_24m  max_bal_bc all_util total_rev_hi_lim inq_fi  \\\n",
       "0         NaN         NaN         NaN      NaN              NaN    NaN   \n",
       "1         NaN         NaN         NaN      NaN              NaN    NaN   \n",
       "2         NaN         NaN         NaN      NaN              NaN    NaN   \n",
       "3         NaN         NaN         NaN      NaN              NaN    NaN   \n",
       "4         NaN         NaN         NaN      NaN              NaN    NaN   \n",
       "\n",
       "  total_cu_tl inq_last_12m  \n",
       "0         NaN          NaN  \n",
       "1         NaN          NaN  \n",
       "2         NaN          NaN  \n",
       "3         NaN          NaN  \n",
       "4         NaN          NaN  \n",
       "\n",
       "[5 rows x 75 columns]"
      ]
     },
     "execution_count": 3,
     "metadata": {},
     "output_type": "execute_result"
    }
   ],
   "source": [
    "import db\n",
    "import pandas.io.sql as psql\n",
    "\n",
    "conn = db.connect()\n",
    "#Loading the loans data to a data frame from the sqlite database\n",
    "df = psql.read_sql('SELECT * FROM LOAN', con=conn)\n",
    "\n",
    "#Displaying the top 5 rows of data for Data exploration\n",
    "df.head()"
   ]
  },
  {
   "cell_type": "markdown",
   "metadata": {},
   "source": [
    "## Data Cleanup\n",
    "From initial exploration it is visible that for a few columns there is no data and most values are NULL.\n",
    "So, let's assume if the data is NULL for more than 90% of rows we can reject the column. Likewise we will also reject rows of data where 50% of values are NULL. We will do the cleanup at the dataframe level only and not make the changes to the original data in the sqlite db. In future, if need be we can write the values derived to a new downstream table w/o affecting the source data."
   ]
  },
  {
   "cell_type": "code",
   "execution_count": 4,
   "metadata": {},
   "outputs": [
    {
     "name": "stderr",
     "output_type": "stream",
     "text": [
      "root - INFO - Dropping Column: annual_inc_joint\n",
      "root - INFO - Dropping Column: dti_joint\n",
      "root - INFO - Dropping Column: verification_status_joint\n",
      "root - INFO - Dropping Column: open_acc_6m\n",
      "root - INFO - Dropping Column: open_il_6m\n",
      "root - INFO - Dropping Column: open_il_12m\n",
      "root - INFO - Dropping Column: open_il_24m\n",
      "root - INFO - Dropping Column: mths_since_rcnt_il\n",
      "root - INFO - Dropping Column: total_bal_il\n",
      "root - INFO - Dropping Column: il_util\n",
      "root - INFO - Dropping Column: open_rv_12m\n",
      "root - INFO - Dropping Column: open_rv_24m\n",
      "root - INFO - Dropping Column: max_bal_bc\n",
      "root - INFO - Dropping Column: all_util\n",
      "root - INFO - Dropping Column: inq_fi\n",
      "root - INFO - Dropping Column: total_cu_tl\n",
      "root - INFO - Dropping Column: inq_last_12m\n",
      "root - INFO - Dropped 0 row(s) of data\n"
     ]
    }
   ],
   "source": [
    "df_len = len(df.index)\n",
    "\n",
    "#Dropping columns with 90% or more NULL values\n",
    "for column in df:\n",
    "    if df[column].isnull().sum() >= 0.9 * df_len:\n",
    "        logging.info(\"Dropping Column: {column}\".format(column=column))\n",
    "        df.drop(column, axis=1, inplace=True)\n",
    "\n",
    "# Dropping rows with 50% NULL values\n",
    "df.dropna(axis=0, thresh=int(0.5*len(df.columns)), inplace=True)\n",
    "logging.info(\"Dropped {count} row(s) of data\".format(count=df_len-len(df.index)))"
   ]
  },
  {
   "cell_type": "markdown",
   "metadata": {},
   "source": [
    "## Data Visualization\n",
    "Post data clean-up, I will demonstrate few simple KPIs about the loans data\n",
    "1. A histogram, showing the distribution of loan amounts thus indicating what are the most likely loan amounts\n",
    "2. A scatter plot between loan amount and the annual income of the loan receiver"
   ]
  },
  {
   "cell_type": "code",
   "execution_count": 6,
   "metadata": {},
   "outputs": [
    {
     "data": {
      "image/png": "[encoded data removed]",
      "text/plain": [
       "<Figure size 432x288 with 1 Axes>"
      ]
     },
     "metadata": {
      "needs_background": "light"
     },
     "output_type": "display_data"
    }
   ],
   "source": [
    "import matplotlib.pyplot as plt\n",
    "\n",
    "# Histogram showing the frequency of loan amounts\n",
    "df['loan_amnt'].hist(bins=25)\n",
    "plt.ylabel('Frequency')\n",
    "plt.xlabel('Loan Amount')\n",
    "plt.show()"
   ]
  },
  {
   "cell_type": "markdown",
   "metadata": {},
   "source": [
    "It seems like most loans were granted at around 10,000 and the counts have reduced as the amount increased. Interestingly, we can also observe that at lower amounts, too the counts were considerably low"
   ]
  },
  {
   "cell_type": "code",
   "execution_count": 10,
   "metadata": {},
   "outputs": [
    {
     "data": {
      "image/png": "[encoded data removed]",
      "text/plain": [
       "<Figure size 432x288 with 2 Axes>"
      ]
     },
     "metadata": {
      "needs_background": "light"
     },
     "output_type": "display_data"
    }
   ],
   "source": [
    "import matplotlib\n",
    "\n",
    "#Scatter plot between loan amount and annual income\n",
    "viz2 = df.plot.scatter(x='loan_amnt',\n",
    "                       y='annual_inc',\n",
    "                       c='int_rate',\n",
    "                       colormap='viridis')"
   ]
  },
  {
   "cell_type": "markdown",
   "metadata": {},
   "source": [
    "Expected some sort of corelation between the annaul income and the loan amount. But it seems like there isn't much corelation between the two metrics. However from the color coding by interest rate we can see that as the loan amount goes higher the color of the dots become lighter, i.e., the interest rate goes higher wrt the loan amount. So a corealtion between the loan amount and annual income seem to exist."
   ]
  },
  {
   "cell_type": "code",
   "execution_count": null,
   "metadata": {},
   "outputs": [],
   "source": []
  }
 ],
 "metadata": {
  "kernelspec": {
   "display_name": "Python 3",
   "language": "python",
   "name": "python3"
  },
  "language_info": {
   "codemirror_mode": {
    "name": "ipython",
    "version": 3
   },
   "file_extension": ".py",
   "mimetype": "text/x-python",
   "name": "python",
   "nbconvert_exporter": "python",
   "pygments_lexer": "ipython3",
   "version": "3.7.0"
  }
 },
 "nbformat": 4,
 "nbformat_minor": 2
}
